{
 "cells": [
  {
   "cell_type": "markdown",
   "metadata": {},
   "source": [
    "## 載入函式庫\n",
    "    利用import來載入 pandas 函式庫\n",
    "    import pandas as pd , 其中 as pd 為保持程式碼簡潔，會利用「pd」簡寫來代替pandas全名"
   ]
  },
  {
   "cell_type": "code",
   "execution_count": null,
   "metadata": {},
   "outputs": [],
   "source": [
    "import numpy as np\n",
    "import pandas as pd\n",
    "pd.set_option(\"display.max_rows\", 200)\n",
    "pd.set_option(\"display.max_columns\", 100)"
   ]
  },
  {
   "cell_type": "markdown",
   "metadata": {},
   "source": [
    "## 建立資料表 （DataFrame）\n",
    "df為DataFrame簡寫，名稱可自行定義\n",
    "\n",
    "透過 pd 的read_json()函式，指定 OpenData平臺提供之URL/API存取資料路徑來取得[PM2.5](https://opendata.epa.gov.tw/Data/Contents/AQI)資料\n",
    "\n",
    "空氣品質指標(AQI)的空氣品質監測小時值(一般污染物,每日更新)為一個 82 列（rows） × 24 欄（columns）的資料表\n",
    "\n",
    "輸出df可看出讀取的資料樣貌。"
   ]
  },
  {
   "cell_type": "code",
   "execution_count": null,
   "metadata": {},
   "outputs": [],
   "source": [
    "url_pm2 = 'http://opendata.epa.gov.tw/webapi/Data/REWIQA/?$orderby=SiteName&$skip=0&$top=1000&format=csv'\n",
    "df = pd.read_csv(url_pm2)\n",
    "df"
   ]
  },
  {
   "cell_type": "markdown",
   "metadata": {},
   "source": [
    "## 資料表資訊\n",
    "    使用 df.info() 可以看到該資料表的資訊\n",
    "    可以顯示有哪些columns、大小和資料類型等等"
   ]
  },
  {
   "cell_type": "code",
   "execution_count": null,
   "metadata": {},
   "outputs": [],
   "source": [
    "df.info()"
   ]
  },
  {
   "cell_type": "code",
   "execution_count": null,
   "metadata": {},
   "outputs": [],
   "source": [
    "df.isnull() \n"
   ]
  },
  {
   "cell_type": "code",
   "execution_count": null,
   "metadata": {},
   "outputs": [],
   "source": [
    "# Pandas尋找空值的位置，並列出空值位置\n",
    "for columname in df.columns:\n",
    "      if df[columname].count() != len(df):\n",
    "        loc = df[columname][df[columname].isnull().values==True].index.tolist()\n",
    "        print('行名：\"{}\", 第{}列位置有缺失值'.format(columname,loc))\n",
    "        print(\"\\n\")\n"
   ]
  },
  {
   "cell_type": "markdown",
   "metadata": {},
   "source": [
    "## 資料表大小\n",
    "使用 df.shap 可以看到該資料表大小"
   ]
  },
  {
   "cell_type": "code",
   "execution_count": null,
   "metadata": {},
   "outputs": [],
   "source": [
    "df.shape"
   ]
  },
  {
   "cell_type": "markdown",
   "metadata": {},
   "source": [
    "## 資料選擇\n",
    "    df[\"欄位名稱\"] -- 選取某一欄所有資料\n",
    "    df[\"欄位名稱\"] [start：stop] 只要選擇某幾筆資料（某幾列）"
   ]
  },
  {
   "cell_type": "code",
   "execution_count": null,
   "metadata": {},
   "outputs": [],
   "source": [
    "df[\"SiteName\"]"
   ]
  },
  {
   "cell_type": "code",
   "execution_count": null,
   "metadata": {},
   "outputs": [],
   "source": [
    "df[\"SiteName\"][1:4] "
   ]
  },
  {
   "cell_type": "markdown",
   "metadata": {},
   "source": [
    "在上面這一行程式碼內會先挑出SiteName這個column內所有資料\n",
    "\n",
    "[0:4]則是我們之前在python語法內所提過的list sclice，會挑出間隔1和4之間的資料。\n",
    "\n",
    "         0     1      2     3       4  \n",
    "       二林   三重   三義   土城    士林\n",
    "     0      1     2      3      4      5\n"
   ]
  },
  {
   "cell_type": "markdown",
   "metadata": {},
   "source": [
    "## 選擇多項資料：\n",
    "    選擇多項資料也非常得簡單，只需要把要選擇的資料用list的資料格式就可以了\n",
    "    df[[\"欄位名稱1\", \"欄位名稱1\"]]\n",
    "    df[[\"欄位名稱1\", \"欄位名稱1\"]][start:stop] 只要選擇某幾筆資料（某幾列）"
   ]
  },
  {
   "cell_type": "code",
   "execution_count": null,
   "metadata": {},
   "outputs": [],
   "source": [
    "df[[\"SiteName\",\"Status\", \"PM2.5_AVG\"]] #選擇 SiteName，Status，PM2.5_AVG"
   ]
  },
  {
   "cell_type": "code",
   "execution_count": null,
   "metadata": {},
   "outputs": [],
   "source": [
    "df[[\"SiteName\",\"Status\", \"PM2.5_AVG\"]][1:4]"
   ]
  },
  {
   "cell_type": "markdown",
   "metadata": {},
   "source": [
    "資料篩選\n",
    "找出空氣品質良好的測站，我們可以用status來判斷"
   ]
  },
  {
   "cell_type": "code",
   "execution_count": null,
   "metadata": {},
   "outputs": [],
   "source": [
    "df[\"Status\"] == \"良好\""
   ]
  },
  {
   "cell_type": "markdown",
   "metadata": {},
   "source": [
    "上面的結果可以看到若是空氣品質良好的測站則顯示True否則為False，接著我們以這個當作過濾器"
   ]
  },
  {
   "cell_type": "code",
   "execution_count": null,
   "metadata": {},
   "outputs": [],
   "source": [
    "fliter = (df[\"Status\"] == \"良好\")\n",
    "df[fliter]"
   ]
  },
  {
   "cell_type": "code",
   "execution_count": null,
   "metadata": {},
   "outputs": [],
   "source": [
    "df[fliter][\"SiteName\"]  # 選取某一欄"
   ]
  },
  {
   "cell_type": "code",
   "execution_count": null,
   "metadata": {},
   "outputs": [],
   "source": [
    "df[fliter][[\"County\",\"SiteName\"]]  # 選取某些欄"
   ]
  },
  {
   "cell_type": "code",
   "execution_count": null,
   "metadata": {},
   "outputs": [],
   "source": []
  }
 ],
 "metadata": {
  "kernelspec": {
   "display_name": "Python 3",
   "language": "python",
   "name": "python3"
  },
  "language_info": {
   "codemirror_mode": {
    "name": "ipython",
    "version": 3
   },
   "file_extension": ".py",
   "mimetype": "text/x-python",
   "name": "python",
   "nbconvert_exporter": "python",
   "pygments_lexer": "ipython3",
   "version": "3.7.6"
  }
 },
 "nbformat": 4,
 "nbformat_minor": 4
}
